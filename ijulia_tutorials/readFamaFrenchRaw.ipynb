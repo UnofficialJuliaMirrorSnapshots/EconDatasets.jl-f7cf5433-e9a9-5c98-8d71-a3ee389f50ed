{
 "cells": [
  {
   "cell_type": "markdown",
   "metadata": {},
   "source": [
    "## Accessible data"
   ]
  },
  {
   "cell_type": "markdown",
   "metadata": {},
   "source": [
    "The function tries to make data from Kenneth R. French's data [library](http://mba.tuck.dartmouth.edu/pages/faculty/ken.french/data_library.html) accessible. "
   ]
  },
  {
   "cell_type": "markdown",
   "metadata": {},
   "source": [
    "## What the function expects"
   ]
  },
  {
   "cell_type": "markdown",
   "metadata": {},
   "source": [
    "The function expects to find a .zip file which contains a .txt file of data. Thereby the .txt file starts with a description of the data, and lists several data sets afterwards. The individual data sets are separated by empty lines, and each data set has one header line followed by one or two lines of column names. The first column of the data contains dates given without any separator.\n",
    "\n",
    "The obstacle for full automation was dealing with the column names, since a single variable name sometimes may consist of two parts separated by whitespace. Hence, it is very difficult to tell automatically, whether two separated strings refer to two different column names or just one single column name.\n",
    "\n",
    "As an example, the following cell shows an extract of data *6 Portfolios formed on size and momentum (2 x 3)* - the comment signs `##` at the beginning of each line are not part of the original file, and shall only avoid execution of the lines by julia. "
   ]
  },
  {
   "cell_type": "code",
   "execution_count": 1,
   "metadata": {
    "collapsed": false
   },
   "outputs": [],
   "source": [
    "##This file was created by CMPT_ME_PRIOR_RETS using the 201405 CRSP database.\n",
    "##It contains value- weighted returns for the intersections of  2 ME portfolios\n",
    "##and  3 prior return portfolios.\n",
    "##\n",
    "##The portfolios are constructed monthly.  ME is market cap at the end of the\n",
    "##previous month.  PRIOR_RET is from -12 to - 2.\n",
    "##\n",
    "##Missing data are indicated by -99.99 or -999.\n",
    "##\n",
    "##\n",
    "##  Average Value Weighted Returns -- Monthly\n",
    "##              Small                 Big         \n",
    "##          Low     2    High    Low     2    High \n",
    "##192701   0.01   3.79   0.39  -0.63   0.23   0.00\n",
    "##192702   7.13   6.24   5.75   5.59   3.78   4.49\n",
    "##192703  -3.26  -2.95  -2.30  -7.66  -0.22   2.29\n",
    "##192704  -0.56  -0.96   3.36  -1.90   0.78   1.89\n",
    "##192705   2.47  11.39   7.00   4.21   4.87   7.10\n",
    "##                          .\n",
    "##                          .\n",
    "##                          .\n",
    "##201401  -2.48  -3.55  -2.59  -5.00  -3.35  -1.51\n",
    "##201402   3.90   4.12   5.49   3.90   4.13   6.62\n",
    "##201403   0.61   1.50  -1.20   2.02   1.63  -2.72\n",
    "##201404  -2.45  -3.03  -5.27   2.70   0.73  -2.23\n",
    "##201405   0.64   0.89  -0.50   0.61   2.40   3.43\n",
    "##\n",
    "##\n",
    "##  Average Equal Weighted Returns -- Monthly\n",
    "##               Small                 Big         \n",
    "##          Low     2    High    Low     2    High \n",
    "##192701   1.77   3.33  -0.81   0.36   0.62   0.95\n",
    "##192702   6.82   6.46   6.08   7.93   4.98   5.10\n",
    "##192703  -4.55  -1.02  -3.56  -4.46  -1.19   0.63\n",
    "##192704   2.13  -1.05   3.51  -1.74   0.95   1.33\n",
    "##192705   2.72  11.36   7.54   5.51   4.60   8.43\n",
    "##192706  -2.86  -1.33  -2.61  -4.19  -1.66  -1.59\n",
    "##192707   5.32   4.88   6.45   6.01   6.72   6.85"
   ]
  },
  {
   "cell_type": "markdown",
   "metadata": {},
   "source": [
    "## Application"
   ]
  },
  {
   "cell_type": "markdown",
   "metadata": {},
   "source": [
    "The function needs to be called with some url given as `ASCIIString`. It returns a tuple consisting of three parts:\n",
    "- the actual data sets as `Array{Any,1}`\n",
    "- the description of each individual data set as `Array{Symbol,1}`\n",
    "- the column / variable names as `Array{Union(UTF8String,ASCIIString),1})`"
   ]
  },
  {
   "cell_type": "code",
   "execution_count": 2,
   "metadata": {
    "collapsed": true
   },
   "outputs": [],
   "source": [
    "using EconDatasets"
   ]
  },
  {
   "cell_type": "code",
   "execution_count": 3,
   "metadata": {
    "collapsed": false
   },
   "outputs": [
    {
     "name": "stderr",
     "output_type": "stream",
     "text": [
      "  % Total    % Received % Xferd  Average Speed   Time    Time     Time  Current\n",
      "                                 Dload  Upload   Total   Spent    Left  Speed\n",
      "100  103k  100  103k    0     0  94912      0  0:00:01  0:00:01 --:--:-- 95004\n"
     ]
    },
    {
     "name": "stdout",
     "output_type": "stream",
     "text": [
      "Archive:  /tmp/juliaiI5UdL\n",
      "  inflating: /tmp/6_Portfolios_ME_Prior_12_2.txt  \n"
     ]
    },
    {
     "data": {
      "text/plain": [
       "(Array{Any,1},Array{Symbol,1},Array{Union(ASCIIString,UTF8String),1})"
      ]
     },
     "execution_count": 3,
     "metadata": {},
     "output_type": "execute_result"
    }
   ],
   "source": [
    "dataUrl = \"http://mba.tuck.dartmouth.edu/pages/faculty/ken.french/ftp/6_Portfolios_ME_Prior_12_2_TXT.zip\"\n",
    "(data, dataNames, varnames) = readFamaFrenchRaw(dataUrl)\n",
    "\n",
    "(typeof(data), typeof(dataNames), typeof(varnames))"
   ]
  },
  {
   "cell_type": "markdown",
   "metadata": {},
   "source": [
    "### Data format"
   ]
  },
  {
   "cell_type": "markdown",
   "metadata": {},
   "source": [
    "Each data set is one entry in an `Array{Any,1}`. Hence, the number of data sets can be determined with `length`."
   ]
  },
  {
   "cell_type": "code",
   "execution_count": 4,
   "metadata": {
    "collapsed": false
   },
   "outputs": [
    {
     "data": {
      "text/plain": [
       "8"
      ]
     },
     "execution_count": 4,
     "metadata": {},
     "output_type": "execute_result"
    }
   ],
   "source": [
    "nData = length(data)"
   ]
  },
  {
   "cell_type": "markdown",
   "metadata": {},
   "source": [
    "Their descriptions can be found in variable `dataNames`."
   ]
  },
  {
   "cell_type": "code",
   "execution_count": 5,
   "metadata": {
    "collapsed": false
   },
   "outputs": [
    {
     "data": {
      "text/plain": [
       "8-element Array{Symbol,1}:\n",
       " symbol(\"  Average Value Weighted Returns -- Monthly\\r\\n\")\n",
       " symbol(\"  Average Equal Weighted Returns -- Monthly\\r\\n\")\n",
       " symbol(\"  Average Value Weighted Returns -- Annual\\r\\n\") \n",
       " symbol(\"  Average Equal Weighted Returns -- Annual\\r\\n\") \n",
       " symbol(\"  Number of Firms in Portfolios\\r\\n\")            \n",
       " symbol(\"  Average Firm Size\\r\\n\")                        \n",
       " symbol(\"  Equally-Weighted Average of Prior Returns\\r\\n\")\n",
       " symbol(\"  Value-Weighted Average of Prior Returns\\r\\n\")  "
      ]
     },
     "execution_count": 5,
     "metadata": {},
     "output_type": "execute_result"
    }
   ],
   "source": [
    "dataNames"
   ]
  },
  {
   "cell_type": "markdown",
   "metadata": {},
   "source": [
    "Any individual data set is stored as `Timematr`, with default names for the individual columns."
   ]
  },
  {
   "cell_type": "code",
   "execution_count": 6,
   "metadata": {
    "collapsed": false
   },
   "outputs": [
    {
     "data": {
      "text/html": [
       "<p><strong>Timematr{Date}</strong></p><p>Dimensions: <strong>(1064, 6)</strong></p><p>From: <strong>1927-01-31</strong>, To: <strong>2015-08-31</strong></p><table class=\"data-frame\"><tr><th></th><th>idx</th><th>x1</th><th>x2</th><th>x3</th><th>x4</th><th>x5</th><th>x6</th></tr><tr><th>1</th><td>1927-01-31</td><td>-0.09</td><td>3.62</td><td>0.4</td><td>-0.4</td><td>0.27</td><td>0.0</td></tr><tr><th>2</th><td>1927-02-28</td><td>7.26</td><td>6.11</td><td>6.05</td><td>7.27</td><td>3.8</td><td>4.47</td></tr><tr><th>3</th><td>1927-03-31</td><td>-3.38</td><td>-2.88</td><td>-2.06</td><td>-3.63</td><td>-0.24</td><td>2.23</td></tr><tr><th>4</th><td>1927-04-30</td><td>-0.51</td><td>-0.56</td><td>3.32</td><td>-2.72</td><td>0.75</td><td>1.82</td></tr><tr><th>5</th><td>1927-05-31</td><td>2.39</td><td>11.21</td><td>6.82</td><td>5.52</td><td>4.85</td><td>7.11</td></tr><tr><th>6</th><td>1927-06-30</td><td>-2.06</td><td>-0.44</td><td>-2.88</td><td>-3.72</td><td>-2.12</td><td>-1.87</td></tr><tr><th>7</th><td>1927-07-31</td><td>3.14</td><td>4.29</td><td>6.93</td><td>4.53</td><td>7.84</td><td>9.38</td></tr><tr><th>8</th><td>1927-08-31</td><td>0.0</td><td>-0.44</td><td>0.1</td><td>1.21</td><td>2.1</td><td>3.35</td></tr><tr><th>9</th><td>1927-09-30</td><td>2.53</td><td>0.3</td><td>3.19</td><td>3.02</td><td>4.87</td><td>6.22</td></tr><tr><th>10</th><td>1927-10-31</td><td>-4.5</td><td>-1.8</td><td>-3.34</td><td>-2.11</td><td>-3.39</td><td>-5.5</td></tr><tr><th>11</th><td>1927-11-30</td><td>11.62</td><td>8.64</td><td>7.02</td><td>5.12</td><td>6.02</td><td>8.35</td></tr><tr><th>12</th><td>1927-12-31</td><td>0.37</td><td>5.74</td><td>4.53</td><td>1.23</td><td>1.7</td><td>3.46</td></tr><tr><th>13</th><td>1928-01-31</td><td>2.92</td><td>3.47</td><td>0.66</td><td>-1.93</td><td>-0.24</td><td>-0.87</td></tr><tr><th>14</th><td>1928-02-29</td><td>-3.5</td><td>-1.92</td><td>-4.77</td><td>-0.81</td><td>-1.04</td><td>-1.58</td></tr><tr><th>15</th><td>1928-03-31</td><td>6.45</td><td>7.81</td><td>7.57</td><td>6.75</td><td>5.3</td><td>15.37</td></tr><tr><th>16</th><td>1928-04-30</td><td>8.2</td><td>10.42</td><td>5.98</td><td>11.14</td><td>4.02</td><td>2.05</td></tr><tr><th>17</th><td>1928-05-31</td><td>2.76</td><td>2.37</td><td>4.01</td><td>-1.21</td><td>1.06</td><td>3.24</td></tr><tr><th>18</th><td>1928-06-30</td><td>-9.28</td><td>-7.31</td><td>-6.27</td><td>-5.17</td><td>-4.05</td><td>-4.09</td></tr><tr><th>19</th><td>1928-07-31</td><td>-1.67</td><td>-0.57</td><td>1.99</td><td>-0.28</td><td>0.78</td><td>1.56</td></tr><tr><th>20</th><td>1928-08-31</td><td>4.95</td><td>2.41</td><td>6.29</td><td>4.3</td><td>6.26</td><td>10.21</td></tr><tr><th>21</th><td>1928-09-30</td><td>4.2</td><td>5.33</td><td>7.61</td><td>1.43</td><td>1.89</td><td>5.25</td></tr><tr><th>22</th><td>1928-10-31</td><td>0.3</td><td>0.92</td><td>7.29</td><td>0.77</td><td>0.78</td><td>3.88</td></tr><tr><th>23</th><td>1928-11-30</td><td>10.06</td><td>11.67</td><td>10.55</td><td>8.78</td><td>13.49</td><td>12.15</td></tr><tr><th>24</th><td>1928-12-31</td><td>-2.67</td><td>0.65</td><td>-1.4</td><td>-0.47</td><td>0.07</td><td>1.67</td></tr><tr><th>25</th><td>1929-01-31</td><td>-0.11</td><td>2.19</td><td>2.84</td><td>3.88</td><td>5.2</td><td>5.79</td></tr><tr><th>26</th><td>1929-02-28</td><td>-0.12</td><td>1.22</td><td>3.19</td><td>-1.61</td><td>-0.83</td><td>1.18</td></tr><tr><th>27</th><td>1929-03-31</td><td>-4.2</td><td>-5.67</td><td>-4.07</td><td>0.78</td><td>0.82</td><td>-1.44</td></tr><tr><th>28</th><td>1929-04-30</td><td>1.74</td><td>-0.65</td><td>1.9</td><td>-0.94</td><td>1.74</td><td>2.69</td></tr><tr><th>29</th><td>1929-05-31</td><td>-11.22</td><td>-8.92</td><td>-11.78</td><td>-3.41</td><td>-4.53</td><td>-6.93</td></tr><tr><th>30</th><td>1929-06-30</td><td>4.29</td><td>6.13</td><td>10.38</td><td>3.08</td><td>7.72</td><td>14.43</td></tr><tr><th>&vellip;</th><td>&vellip;</td><td>&vellip;</td><td>&vellip;</td><td>&vellip;</td><td>&vellip;</td><td>&vellip;</td><td>&vellip;</td></tr></table>"
      ],
      "text/plain": [
       "Timematr{Date}(1064x6 DataFrame\n",
       "| Row  | x1    | x2    | x3    | x4    | x5    | x6    |\n",
       "|------|-------|-------|-------|-------|-------|-------|\n",
       "| 1    | -0.09 | 3.62  | 0.4   | -0.4  | 0.27  | 0.0   |\n",
       "| 2    | 7.26  | 6.11  | 6.05  | 7.27  | 3.8   | 4.47  |\n",
       "| 3    | -3.38 | -2.88 | -2.06 | -3.63 | -0.24 | 2.23  |\n",
       "| 4    | -0.51 | -0.56 | 3.32  | -2.72 | 0.75  | 1.82  |\n",
       "| 5    | 2.39  | 11.21 | 6.82  | 5.52  | 4.85  | 7.11  |\n",
       "| 6    | -2.06 | -0.44 | -2.88 | -3.72 | -2.12 | -1.87 |\n",
       "| 7    | 3.14  | 4.29  | 6.93  | 4.53  | 7.84  | 9.38  |\n",
       "| 8    | 0.0   | -0.44 | 0.1   | 1.21  | 2.1   | 3.35  |\n",
       "| 9    | 2.53  | 0.3   | 3.19  | 3.02  | 4.87  | 6.22  |\n",
       "| 10   | -4.5  | -1.8  | -3.34 | -2.11 | -3.39 | -5.5  |\n",
       "| 11   | 11.62 | 8.64  | 7.02  | 5.12  | 6.02  | 8.35  |\n",
       "⋮\n",
       "| 1053 | -6.65 | -4.81 | -5.93 | -1.94 | -1.6  | -1.67 |\n",
       "| 1054 | 5.63  | 7.78  | 4.9   | 1.22  | 2.57  | 2.07  |\n",
       "| 1055 | -0.63 | -0.26 | 0.44  | 2.43  | 2.19  | 3.39  |\n",
       "| 1056 | 1.64  | 3.07  | 2.6   | -1.92 | 0.37  | -0.81 |\n",
       "| 1057 | -7.42 | -4.43 | -1.82 | -3.31 | -4.52 | -1.39 |\n",
       "| 1058 | 9.18  | 6.28  | 5.56  | 7.79  | 6.18  | 5.64  |\n",
       "| 1059 | -0.98 | 1.66  | 2.68  | -3.01 | -1.62 | -0.63 |\n",
       "| 1060 | 2.82  | -2.11 | -4.35 | 6.21  | 2.13  | -1.43 |\n",
       "| 1061 | -1.08 | 0.88  | 4.51  | -2.96 | 1.11  | 3.3   |\n",
       "| 1062 | -0.96 | 1.29  | 2.22  | -3.89 | -1.87 | -0.97 |\n",
       "| 1063 | -8.93 | -1.24 | 0.5   | -7.48 | 2.44  | 3.55  |\n",
       "| 1064 | -4.66 | -4.36 | -6.8  | -4.23 | -6.27 | -6.54 |,[1927-01-31,1927-02-28,1927-03-31,1927-04-30,1927-05-31,1927-06-30,1927-07-31,1927-08-31,1927-09-30,1927-10-31  …  2014-11-30,2014-12-31,2015-01-31,2015-02-28,2015-03-31,2015-04-30,2015-05-31,2015-06-30,2015-07-31,2015-08-31])"
      ]
     },
     "execution_count": 6,
     "metadata": {},
     "output_type": "execute_result"
    }
   ],
   "source": [
    "data[1]"
   ]
  },
  {
   "cell_type": "markdown",
   "metadata": {},
   "source": [
    "### Data processing"
   ]
  },
  {
   "cell_type": "markdown",
   "metadata": {},
   "source": [
    "For a clean end result, one only needs to rename the individual variable names. The variable names can accessed from variable `varnames`. Note that the function assumes that the column names of all data sets are the same!"
   ]
  },
  {
   "cell_type": "code",
   "execution_count": 7,
   "metadata": {
    "collapsed": false
   },
   "outputs": [
    {
     "data": {
      "text/plain": [
       "2-element Array{Union(ASCIIString,UTF8String),1}:\n",
       " \"               Small                 Big         \\r\\n\"\n",
       " \"          Low     2    High    Low     2    High \\r\\n\""
      ]
     },
     "execution_count": 7,
     "metadata": {},
     "output_type": "execute_result"
    }
   ],
   "source": [
    "varnames"
   ]
  },
  {
   "cell_type": "markdown",
   "metadata": {},
   "source": [
    "As an example, we translate these variable names manually into the following names:"
   ]
  },
  {
   "cell_type": "code",
   "execution_count": 8,
   "metadata": {
    "collapsed": false
   },
   "outputs": [
    {
     "data": {
      "text/plain": [
       "6-element Array{Symbol,1}:\n",
       " :SmallLow \n",
       " :SmallMed \n",
       " :SmallHigh\n",
       " :BigLow   \n",
       " :BigMed   \n",
       " :BigHigh  "
      ]
     },
     "execution_count": 8,
     "metadata": {},
     "output_type": "execute_result"
    }
   ],
   "source": [
    "newVarnames = [:SmallLow, :SmallMed, :SmallHigh, :BigLow, :BigMed, :BigHigh]"
   ]
  },
  {
   "cell_type": "code",
   "execution_count": 9,
   "metadata": {
    "collapsed": false
   },
   "outputs": [],
   "source": [
    "for ii=1:length(data)\n",
    "    rename!(data[ii].vals, names(data[ii].vals), newVarnames)\n",
    "end"
   ]
  },
  {
   "cell_type": "code",
   "execution_count": 10,
   "metadata": {
    "collapsed": false
   },
   "outputs": [
    {
     "data": {
      "text/html": [
       "<p><strong>Timematr{Date}</strong></p><p>Dimensions: <strong>(1064, 6)</strong></p><p>From: <strong>1927-01-31</strong>, To: <strong>2015-08-31</strong></p><table class=\"data-frame\"><tr><th></th><th>idx</th><th>SmallLow</th><th>SmallMed</th><th>SmallHigh</th><th>BigLow</th><th>BigMed</th><th>BigHigh</th></tr><tr><th>1</th><td>1927-01-31</td><td>-0.09</td><td>3.62</td><td>0.4</td><td>-0.4</td><td>0.27</td><td>0.0</td></tr><tr><th>2</th><td>1927-02-28</td><td>7.26</td><td>6.11</td><td>6.05</td><td>7.27</td><td>3.8</td><td>4.47</td></tr><tr><th>3</th><td>1927-03-31</td><td>-3.38</td><td>-2.88</td><td>-2.06</td><td>-3.63</td><td>-0.24</td><td>2.23</td></tr><tr><th>4</th><td>1927-04-30</td><td>-0.51</td><td>-0.56</td><td>3.32</td><td>-2.72</td><td>0.75</td><td>1.82</td></tr><tr><th>5</th><td>1927-05-31</td><td>2.39</td><td>11.21</td><td>6.82</td><td>5.52</td><td>4.85</td><td>7.11</td></tr><tr><th>6</th><td>1927-06-30</td><td>-2.06</td><td>-0.44</td><td>-2.88</td><td>-3.72</td><td>-2.12</td><td>-1.87</td></tr><tr><th>7</th><td>1927-07-31</td><td>3.14</td><td>4.29</td><td>6.93</td><td>4.53</td><td>7.84</td><td>9.38</td></tr><tr><th>8</th><td>1927-08-31</td><td>0.0</td><td>-0.44</td><td>0.1</td><td>1.21</td><td>2.1</td><td>3.35</td></tr><tr><th>9</th><td>1927-09-30</td><td>2.53</td><td>0.3</td><td>3.19</td><td>3.02</td><td>4.87</td><td>6.22</td></tr><tr><th>10</th><td>1927-10-31</td><td>-4.5</td><td>-1.8</td><td>-3.34</td><td>-2.11</td><td>-3.39</td><td>-5.5</td></tr><tr><th>11</th><td>1927-11-30</td><td>11.62</td><td>8.64</td><td>7.02</td><td>5.12</td><td>6.02</td><td>8.35</td></tr><tr><th>12</th><td>1927-12-31</td><td>0.37</td><td>5.74</td><td>4.53</td><td>1.23</td><td>1.7</td><td>3.46</td></tr><tr><th>13</th><td>1928-01-31</td><td>2.92</td><td>3.47</td><td>0.66</td><td>-1.93</td><td>-0.24</td><td>-0.87</td></tr><tr><th>14</th><td>1928-02-29</td><td>-3.5</td><td>-1.92</td><td>-4.77</td><td>-0.81</td><td>-1.04</td><td>-1.58</td></tr><tr><th>15</th><td>1928-03-31</td><td>6.45</td><td>7.81</td><td>7.57</td><td>6.75</td><td>5.3</td><td>15.37</td></tr><tr><th>16</th><td>1928-04-30</td><td>8.2</td><td>10.42</td><td>5.98</td><td>11.14</td><td>4.02</td><td>2.05</td></tr><tr><th>17</th><td>1928-05-31</td><td>2.76</td><td>2.37</td><td>4.01</td><td>-1.21</td><td>1.06</td><td>3.24</td></tr><tr><th>18</th><td>1928-06-30</td><td>-9.28</td><td>-7.31</td><td>-6.27</td><td>-5.17</td><td>-4.05</td><td>-4.09</td></tr><tr><th>19</th><td>1928-07-31</td><td>-1.67</td><td>-0.57</td><td>1.99</td><td>-0.28</td><td>0.78</td><td>1.56</td></tr><tr><th>20</th><td>1928-08-31</td><td>4.95</td><td>2.41</td><td>6.29</td><td>4.3</td><td>6.26</td><td>10.21</td></tr><tr><th>21</th><td>1928-09-30</td><td>4.2</td><td>5.33</td><td>7.61</td><td>1.43</td><td>1.89</td><td>5.25</td></tr><tr><th>22</th><td>1928-10-31</td><td>0.3</td><td>0.92</td><td>7.29</td><td>0.77</td><td>0.78</td><td>3.88</td></tr><tr><th>23</th><td>1928-11-30</td><td>10.06</td><td>11.67</td><td>10.55</td><td>8.78</td><td>13.49</td><td>12.15</td></tr><tr><th>24</th><td>1928-12-31</td><td>-2.67</td><td>0.65</td><td>-1.4</td><td>-0.47</td><td>0.07</td><td>1.67</td></tr><tr><th>25</th><td>1929-01-31</td><td>-0.11</td><td>2.19</td><td>2.84</td><td>3.88</td><td>5.2</td><td>5.79</td></tr><tr><th>26</th><td>1929-02-28</td><td>-0.12</td><td>1.22</td><td>3.19</td><td>-1.61</td><td>-0.83</td><td>1.18</td></tr><tr><th>27</th><td>1929-03-31</td><td>-4.2</td><td>-5.67</td><td>-4.07</td><td>0.78</td><td>0.82</td><td>-1.44</td></tr><tr><th>28</th><td>1929-04-30</td><td>1.74</td><td>-0.65</td><td>1.9</td><td>-0.94</td><td>1.74</td><td>2.69</td></tr><tr><th>29</th><td>1929-05-31</td><td>-11.22</td><td>-8.92</td><td>-11.78</td><td>-3.41</td><td>-4.53</td><td>-6.93</td></tr><tr><th>30</th><td>1929-06-30</td><td>4.29</td><td>6.13</td><td>10.38</td><td>3.08</td><td>7.72</td><td>14.43</td></tr><tr><th>&vellip;</th><td>&vellip;</td><td>&vellip;</td><td>&vellip;</td><td>&vellip;</td><td>&vellip;</td><td>&vellip;</td><td>&vellip;</td></tr></table>"
      ],
      "text/plain": [
       "Timematr{Date}(1064x6 DataFrame\n",
       "| Row  | SmallLow | SmallMed | SmallHigh | BigLow | BigMed | BigHigh |\n",
       "|------|----------|----------|-----------|--------|--------|---------|\n",
       "| 1    | -0.09    | 3.62     | 0.4       | -0.4   | 0.27   | 0.0     |\n",
       "| 2    | 7.26     | 6.11     | 6.05      | 7.27   | 3.8    | 4.47    |\n",
       "| 3    | -3.38    | -2.88    | -2.06     | -3.63  | -0.24  | 2.23    |\n",
       "| 4    | -0.51    | -0.56    | 3.32      | -2.72  | 0.75   | 1.82    |\n",
       "| 5    | 2.39     | 11.21    | 6.82      | 5.52   | 4.85   | 7.11    |\n",
       "| 6    | -2.06    | -0.44    | -2.88     | -3.72  | -2.12  | -1.87   |\n",
       "| 7    | 3.14     | 4.29     | 6.93      | 4.53   | 7.84   | 9.38    |\n",
       "| 8    | 0.0      | -0.44    | 0.1       | 1.21   | 2.1    | 3.35    |\n",
       "| 9    | 2.53     | 0.3      | 3.19      | 3.02   | 4.87   | 6.22    |\n",
       "| 10   | -4.5     | -1.8     | -3.34     | -2.11  | -3.39  | -5.5    |\n",
       "| 11   | 11.62    | 8.64     | 7.02      | 5.12   | 6.02   | 8.35    |\n",
       "⋮\n",
       "| 1053 | -6.65    | -4.81    | -5.93     | -1.94  | -1.6   | -1.67   |\n",
       "| 1054 | 5.63     | 7.78     | 4.9       | 1.22   | 2.57   | 2.07    |\n",
       "| 1055 | -0.63    | -0.26    | 0.44      | 2.43   | 2.19   | 3.39    |\n",
       "| 1056 | 1.64     | 3.07     | 2.6       | -1.92  | 0.37   | -0.81   |\n",
       "| 1057 | -7.42    | -4.43    | -1.82     | -3.31  | -4.52  | -1.39   |\n",
       "| 1058 | 9.18     | 6.28     | 5.56      | 7.79   | 6.18   | 5.64    |\n",
       "| 1059 | -0.98    | 1.66     | 2.68      | -3.01  | -1.62  | -0.63   |\n",
       "| 1060 | 2.82     | -2.11    | -4.35     | 6.21   | 2.13   | -1.43   |\n",
       "| 1061 | -1.08    | 0.88     | 4.51      | -2.96  | 1.11   | 3.3     |\n",
       "| 1062 | -0.96    | 1.29     | 2.22      | -3.89  | -1.87  | -0.97   |\n",
       "| 1063 | -8.93    | -1.24    | 0.5       | -7.48  | 2.44   | 3.55    |\n",
       "| 1064 | -4.66    | -4.36    | -6.8      | -4.23  | -6.27  | -6.54   |,[1927-01-31,1927-02-28,1927-03-31,1927-04-30,1927-05-31,1927-06-30,1927-07-31,1927-08-31,1927-09-30,1927-10-31  …  2014-11-30,2014-12-31,2015-01-31,2015-02-28,2015-03-31,2015-04-30,2015-05-31,2015-06-30,2015-07-31,2015-08-31])"
      ]
     },
     "execution_count": 10,
     "metadata": {},
     "output_type": "execute_result"
    }
   ],
   "source": [
    "data[1]"
   ]
  }
 ],
 "metadata": {
  "kernelspec": {
   "display_name": "Julia 0.3.6",
   "language": "julia",
   "name": "julia-0.3"
  },
  "language_info": {
   "name": "julia",
   "version": "0.3.6"
  }
 },
 "nbformat": 4,
 "nbformat_minor": 0
}
